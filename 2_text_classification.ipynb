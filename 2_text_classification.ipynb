{
  "nbformat": 4,
  "nbformat_minor": 0,
  "metadata": {
    "colab": {
      "name": "2_text_classification.ipynb",
      "provenance": [],
      "authorship_tag": "ABX9TyP7HB+qVuptFKzyWKZbU45h",
      "include_colab_link": true
    },
    "kernelspec": {
      "name": "python3",
      "display_name": "Python 3"
    }
  },
  "cells": [
    {
      "cell_type": "markdown",
      "metadata": {
        "id": "view-in-github",
        "colab_type": "text"
      },
      "source": [
        "<a href=\"https://colab.research.google.com/github/shahuzi/tf2.0_learning/blob/master/2_text_classification.ipynb\" target=\"_parent\"><img src=\"https://colab.research.google.com/assets/colab-badge.svg\" alt=\"Open In Colab\"/></a>"
      ]
    },
    {
      "cell_type": "code",
      "metadata": {
        "id": "tDk9sEdgGxxl",
        "colab_type": "code",
        "colab": {}
      },
      "source": [
        "import tensorflow as tf\n",
        "from tensorflow import keras\n",
        "import numpy as np"
      ],
      "execution_count": 0,
      "outputs": []
    },
    {
      "cell_type": "code",
      "metadata": {
        "id": "J8vZsNBxHFv2",
        "colab_type": "code",
        "colab": {}
      },
      "source": [
        "imdb = keras.datasets.imdb\n",
        "# 参数 num_words=10000 保留了训练数据中最常出现的 10,000 个单词。为了保持数据规模的可管理性，低频词将被丢弃。\n",
        "(train_data, train_labels), (test_data, test_labels) = imdb.load_data(num_words=10000)\n"
      ],
      "execution_count": 0,
      "outputs": []
    },
    {
      "cell_type": "markdown",
      "metadata": {
        "id": "pxFBEQbIHIhy",
        "colab_type": "text"
      },
      "source": [
        "## 探索数据\n",
        "\n",
        "让我们花一点时间来了解数据格式。该数据集是经过预处理的：每个样本都是一个表示影评中词汇的整数数组。每个标签都是一个值为 0 或 1 的整数值，其中 0 代表消极评论，1 代表积极评论。"
      ]
    },
    {
      "cell_type": "code",
      "metadata": {
        "id": "xujqs7JuHfzq",
        "colab_type": "code",
        "colab": {
          "base_uri": "https://localhost:8080/",
          "height": 35
        },
        "outputId": "dd8b56f1-16d5-4c10-a05d-f0d3e3ee5917"
      },
      "source": [
        "print(\"Training entries: {}, labels: {}\".format(len(train_data), len(train_labels)))"
      ],
      "execution_count": 4,
      "outputs": [
        {
          "output_type": "stream",
          "text": [
            "Training entries: 25000, labels: 25000\n"
          ],
          "name": "stdout"
        }
      ]
    },
    {
      "cell_type": "code",
      "metadata": {
        "id": "Am8YFnI4HhUy",
        "colab_type": "code",
        "colab": {
          "base_uri": "https://localhost:8080/",
          "height": 55
        },
        "outputId": "19e8be4f-5fbd-4d5c-ec71-c71951088c6a"
      },
      "source": [
        "# 评论文本被转换为整数值，其中每个整数代表词典中的一个单词。首条评论是这样的：\n",
        "print(train_data[0])\n"
      ],
      "execution_count": 5,
      "outputs": [
        {
          "output_type": "stream",
          "text": [
            "[1, 14, 22, 16, 43, 530, 973, 1622, 1385, 65, 458, 4468, 66, 3941, 4, 173, 36, 256, 5, 25, 100, 43, 838, 112, 50, 670, 2, 9, 35, 480, 284, 5, 150, 4, 172, 112, 167, 2, 336, 385, 39, 4, 172, 4536, 1111, 17, 546, 38, 13, 447, 4, 192, 50, 16, 6, 147, 2025, 19, 14, 22, 4, 1920, 4613, 469, 4, 22, 71, 87, 12, 16, 43, 530, 38, 76, 15, 13, 1247, 4, 22, 17, 515, 17, 12, 16, 626, 18, 2, 5, 62, 386, 12, 8, 316, 8, 106, 5, 4, 2223, 5244, 16, 480, 66, 3785, 33, 4, 130, 12, 16, 38, 619, 5, 25, 124, 51, 36, 135, 48, 25, 1415, 33, 6, 22, 12, 215, 28, 77, 52, 5, 14, 407, 16, 82, 2, 8, 4, 107, 117, 5952, 15, 256, 4, 2, 7, 3766, 5, 723, 36, 71, 43, 530, 476, 26, 400, 317, 46, 7, 4, 2, 1029, 13, 104, 88, 4, 381, 15, 297, 98, 32, 2071, 56, 26, 141, 6, 194, 7486, 18, 4, 226, 22, 21, 134, 476, 26, 480, 5, 144, 30, 5535, 18, 51, 36, 28, 224, 92, 25, 104, 4, 226, 65, 16, 38, 1334, 88, 12, 16, 283, 5, 16, 4472, 113, 103, 32, 15, 16, 5345, 19, 178, 32]\n"
          ],
          "name": "stdout"
        }
      ]
    },
    {
      "cell_type": "code",
      "metadata": {
        "id": "ZjltFmPEHnTa",
        "colab_type": "code",
        "colab": {
          "base_uri": "https://localhost:8080/",
          "height": 35
        },
        "outputId": "9955c6fe-e06e-4a13-c731-a6d1f6c2faa3"
      },
      "source": [
        "# 电影评论可能具有不同的长度。以下代码显示了第一条和第二条评论的中单词数量。由于神经网络的输入必须是统一的长度，我们稍后需要解决这个问题。\n",
        "len(train_data[0]), len(train_data[1])"
      ],
      "execution_count": 6,
      "outputs": [
        {
          "output_type": "execute_result",
          "data": {
            "text/plain": [
              "(218, 189)"
            ]
          },
          "metadata": {
            "tags": []
          },
          "execution_count": 6
        }
      ]
    },
    {
      "cell_type": "markdown",
      "metadata": {
        "id": "Me8RrC4MHsRa",
        "colab_type": "text"
      },
      "source": [
        "### 将整数转换回单词\n",
        "\n",
        "了解如何将整数转换回文本对您可能是有帮助的。这里我们将创建一个辅助函数来查询一个包含了整数到字符串映射的字典对象："
      ]
    },
    {
      "cell_type": "code",
      "metadata": {
        "id": "UBcaHcAuHwZS",
        "colab_type": "code",
        "colab": {
          "base_uri": "https://localhost:8080/",
          "height": 91
        },
        "outputId": "0213deba-2e76-4993-a253-697b11f8c1ea"
      },
      "source": [
        "# 一个映射单词到整数索引的词典\n",
        "word_index = imdb.get_word_index()\n",
        "\n",
        "# 保留第一个索引\n",
        "word_index = {k:(v+3) for k,v in word_index.items()}\n",
        "word_index[\"<PAD>\"] = 0\n",
        "word_index[\"<START>\"] = 1\n",
        "word_index[\"<UNK>\"] = 2  # unknown\n",
        "word_index[\"<UNUSED>\"] = 3\n",
        "\n",
        "reverse_word_index = dict([(value, key) for (key, value) in word_index.items()])\n",
        "\n",
        "def decode_review(text):\n",
        "    return ' '.join([reverse_word_index.get(i, '?') for i in text])\n",
        "\n",
        "# 现在我们可以使用 decode_review 函数来显示首条评论的文本：\n",
        "decode_review(train_data[0])"
      ],
      "execution_count": 7,
      "outputs": [
        {
          "output_type": "stream",
          "text": [
            "Downloading data from https://storage.googleapis.com/tensorflow/tf-keras-datasets/imdb_word_index.json\n",
            "1646592/1641221 [==============================] - 0s 0us/step\n"
          ],
          "name": "stdout"
        },
        {
          "output_type": "execute_result",
          "data": {
            "text/plain": [
              "\"<START> this film was just brilliant casting location scenery story direction everyone's really suited the part they played and you could just imagine being there robert <UNK> is an amazing actor and now the same being director <UNK> father came from the same scottish island as myself so i loved the fact there was a real connection with this film the witty remarks throughout the film were great it was just brilliant so much that i bought the film as soon as it was released for <UNK> and would recommend it to everyone to watch and the fly fishing was amazing really cried at the end it was so sad and you know what they say if you cry at a film it must have been good and this definitely was also <UNK> to the two little boy's that played the <UNK> of norman and paul they were just brilliant children are often left out of the <UNK> list i think because the stars that play them all grown up are such a big profile for the whole film but these children are amazing and should be praised for what they have done don't you think the whole story was so lovely because it was true and was someone's life after all that was shared with us all\""
            ]
          },
          "metadata": {
            "tags": []
          },
          "execution_count": 7
        }
      ]
    },
    {
      "cell_type": "markdown",
      "metadata": {
        "id": "qQGxjHZ2H31y",
        "colab_type": "text"
      },
      "source": [
        "## 准备数据\n",
        "\n",
        "影评——即整数数组必须在输入神经网络之前转换为张量。这种转换可以通过以下两种方式来完成：\n",
        "\n",
        "* 将数组转换为表示单词出现与否的由 0 和 1 组成的向量，类似于 one-hot 编码。例如，序列[3, 5]将转换为一个 10,000 维的向量，该向量除了索引为 3 和 5 的位置是 1 以外，其他都为 0。然后，将其作为网络的首层——一个可以处理浮点型向量数据的稠密层。不过，这种方法需要大量的内存，需要一个大小为 `num_words * num_reviews` 的矩阵。\n",
        "\n",
        "* 或者，我们可以填充数组来保证输入数据具有相同的长度，然后创建一个大小为 `max_length * num_reviews` 的整型张量。我们可以使用能够处理此形状数据的嵌入层作为网络中的第一层。\n",
        "\n",
        "在本教程中，我们将使用第二种方法。\n",
        "\n",
        "由于电影评论长度必须相同，我们将使用 [pad_sequences](https://tensorflow.google.cn/api_docs/python/tf/keras/preprocessing/sequence/pad_sequences) 函数来使长度标准化："
      ]
    },
    {
      "cell_type": "code",
      "metadata": {
        "id": "FtS5kZQzIiHi",
        "colab_type": "code",
        "colab": {}
      },
      "source": [
        "train_data = keras.preprocessing.sequence.pad_sequences(train_data,\n",
        "                                                        value=word_index[\"<PAD>\"],\n",
        "                                                        padding='post',\n",
        "                                                        maxlen=256)\n",
        "\n",
        "test_data = keras.preprocessing.sequence.pad_sequences(test_data,\n",
        "                                                       value=word_index[\"<PAD>\"],\n",
        "                                                       padding='post',\n",
        "                                                       maxlen=256)"
      ],
      "execution_count": 0,
      "outputs": []
    },
    {
      "cell_type": "code",
      "metadata": {
        "id": "yKQf7iwXIler",
        "colab_type": "code",
        "colab": {
          "base_uri": "https://localhost:8080/",
          "height": 35
        },
        "outputId": "d54f7c8d-6266-4162-af24-26e909b959d2"
      },
      "source": [
        "# 现在让我们看下样本的长度：\n",
        "len(train_data[0]), len(train_data[1])"
      ],
      "execution_count": 9,
      "outputs": [
        {
          "output_type": "execute_result",
          "data": {
            "text/plain": [
              "(256, 256)"
            ]
          },
          "metadata": {
            "tags": []
          },
          "execution_count": 9
        }
      ]
    },
    {
      "cell_type": "code",
      "metadata": {
        "id": "7zx20EZpIuLK",
        "colab_type": "code",
        "colab": {
          "base_uri": "https://localhost:8080/",
          "height": 359
        },
        "outputId": "8c281d20-5fd6-4d1e-aed6-0dabcae07161"
      },
      "source": [
        "# 并检查一下首条评论（当前已经填充）：\n",
        "print(train_data[0])"
      ],
      "execution_count": 10,
      "outputs": [
        {
          "output_type": "stream",
          "text": [
            "[   1   14   22   16   43  530  973 1622 1385   65  458 4468   66 3941\n",
            "    4  173   36  256    5   25  100   43  838  112   50  670    2    9\n",
            "   35  480  284    5  150    4  172  112  167    2  336  385   39    4\n",
            "  172 4536 1111   17  546   38   13  447    4  192   50   16    6  147\n",
            " 2025   19   14   22    4 1920 4613  469    4   22   71   87   12   16\n",
            "   43  530   38   76   15   13 1247    4   22   17  515   17   12   16\n",
            "  626   18    2    5   62  386   12    8  316    8  106    5    4 2223\n",
            " 5244   16  480   66 3785   33    4  130   12   16   38  619    5   25\n",
            "  124   51   36  135   48   25 1415   33    6   22   12  215   28   77\n",
            "   52    5   14  407   16   82    2    8    4  107  117 5952   15  256\n",
            "    4    2    7 3766    5  723   36   71   43  530  476   26  400  317\n",
            "   46    7    4    2 1029   13  104   88    4  381   15  297   98   32\n",
            " 2071   56   26  141    6  194 7486   18    4  226   22   21  134  476\n",
            "   26  480    5  144   30 5535   18   51   36   28  224   92   25  104\n",
            "    4  226   65   16   38 1334   88   12   16  283    5   16 4472  113\n",
            "  103   32   15   16 5345   19  178   32    0    0    0    0    0    0\n",
            "    0    0    0    0    0    0    0    0    0    0    0    0    0    0\n",
            "    0    0    0    0    0    0    0    0    0    0    0    0    0    0\n",
            "    0    0    0    0]\n"
          ],
          "name": "stdout"
        }
      ]
    },
    {
      "cell_type": "markdown",
      "metadata": {
        "id": "nLRdGNWlI0gK",
        "colab_type": "text"
      },
      "source": [
        "## 构建模型\n",
        "\n",
        "神经网络由堆叠的层来构建，这需要从两个主要方面来进行体系结构决策：\n",
        "\n",
        "* 模型里有多少层？\n",
        "* 每个层里有多少*隐层单元（hidden units）*？\n",
        "\n",
        "在此样本中，输入数据包含一个单词索引的数组。要预测的标签为 0 或 1。让我们来为该问题构建一个模型："
      ]
    },
    {
      "cell_type": "code",
      "metadata": {
        "id": "-pXkLmR6JDLK",
        "colab_type": "code",
        "colab": {
          "base_uri": "https://localhost:8080/",
          "height": 305
        },
        "outputId": "d7c559f8-5a0f-47e7-f2e5-64f7bcf07530"
      },
      "source": [
        "# 输入形状是用于电影评论的词汇数目（10,000 词）\n",
        "vocab_size = 10000\n",
        "\n",
        "model = keras.Sequential()\n",
        "model.add(keras.layers.Embedding(vocab_size, 16))\n",
        "model.add(keras.layers.GlobalAveragePooling1D())\n",
        "model.add(keras.layers.Dense(16, activation='relu'))\n",
        "model.add(keras.layers.Dense(1, activation='sigmoid'))\n",
        "\n",
        "model.summary()"
      ],
      "execution_count": 11,
      "outputs": [
        {
          "output_type": "stream",
          "text": [
            "Model: \"sequential\"\n",
            "_________________________________________________________________\n",
            "Layer (type)                 Output Shape              Param #   \n",
            "=================================================================\n",
            "embedding (Embedding)        (None, None, 16)          160000    \n",
            "_________________________________________________________________\n",
            "global_average_pooling1d (Gl (None, 16)                0         \n",
            "_________________________________________________________________\n",
            "dense (Dense)                (None, 16)                272       \n",
            "_________________________________________________________________\n",
            "dense_1 (Dense)              (None, 1)                 17        \n",
            "=================================================================\n",
            "Total params: 160,289\n",
            "Trainable params: 160,289\n",
            "Non-trainable params: 0\n",
            "_________________________________________________________________\n"
          ],
          "name": "stdout"
        }
      ]
    },
    {
      "cell_type": "markdown",
      "metadata": {
        "id": "KmOHHeNIJEuy",
        "colab_type": "text"
      },
      "source": [
        "层按顺序堆叠以构建分类器：\n",
        "\n",
        "1. 第一层是`嵌入（Embedding）`层。该层采用整数编码的词汇表，并查找每个词索引的嵌入向量（embedding vector）。这些向量是通过模型训练学习到的。向量向输出数组增加了一个维度。得到的维度为：`(batch, sequence, embedding)`。\n",
        "2. 接下来，`GlobalAveragePooling1D` 将通过对序列维度求平均值来为每个样本返回一个定长输出向量。这允许模型以尽可能最简单的方式处理变长输入。\n",
        "3. 该定长输出向量通过一个有 16 个隐层单元的全连接（`Dense`）层传输。\n",
        "4. 最后一层与单个输出结点密集连接。使用 `Sigmoid` 激活函数，其函数值为介于 0 与 1 之间的浮点数，表示概率或置信度。\n",
        "\n",
        "\n",
        "### 隐层单元\n",
        "\n",
        "上述模型在输入输出之间有两个中间层或“隐藏层”。输出（单元，结点或神经元）的数量即为层表示空间的维度。换句话说，是学习内部表示时网络所允许的自由度。\n",
        "\n",
        "如果模型具有更多的隐层单元（更高维度的表示空间）和/或更多层，则可以学习到更复杂的表示。但是，这会使网络的计算成本更高，并且可能导致学习到不需要的模式——一些能够在训练数据上而不是测试数据上改善性能的模式。这被称为*过拟合（overfitting）*，我们稍后会对此进行探究。"
      ]
    },
    {
      "cell_type": "markdown",
      "metadata": {
        "id": "gEuwZjCJJSxl",
        "colab_type": "text"
      },
      "source": [
        "### 损失函数与优化器\n",
        "\n",
        "一个模型需要损失函数和优化器来进行训练。由于这是一个二分类问题且模型输出概率值（一个使用 sigmoid 激活函数的单一单元层），我们将使用 `binary_crossentropy` 损失函数。\n",
        "\n",
        "这不是损失函数的唯一选择，例如，您可以选择 `mean_squared_error` 。但是，一般来说 `binary_crossentropy` 更适合处理概率——它能够度量概率分布之间的“距离”，或者在我们的示例中，指的是度量 ground-truth 分布与预测值之间的“距离”。\n",
        "\n",
        "稍后，当我们研究回归问题（例如，预测房价）时，我们将介绍如何使用另一种叫做均方误差的损失函数。\n",
        "\n",
        "现在，配置模型来使用优化器和损失函数："
      ]
    },
    {
      "cell_type": "code",
      "metadata": {
        "id": "tl1NgiaVJg-y",
        "colab_type": "code",
        "colab": {}
      },
      "source": [
        "model.compile(optimizer='adam',\n",
        "              loss='binary_crossentropy',\n",
        "              metrics=['accuracy'])"
      ],
      "execution_count": 0,
      "outputs": []
    },
    {
      "cell_type": "markdown",
      "metadata": {
        "id": "2fuO727BJiyr",
        "colab_type": "text"
      },
      "source": [
        "## 创建一个验证集\n",
        "\n",
        "在训练时，我们想要检查模型在未见过的数据上的准确率（accuracy）。通过从原始训练数据中分离 10,000 个样本来创建一个*验证集*。（为什么现在不使用测试集？我们的目标是只使用训练数据来开发和调整模型，然后只使用一次测试数据来评估准确率（accuracy））。"
      ]
    },
    {
      "cell_type": "code",
      "metadata": {
        "id": "FU2EFp5XJk1B",
        "colab_type": "code",
        "colab": {}
      },
      "source": [
        "x_val = train_data[:10000]\n",
        "partial_x_train = train_data[10000:]\n",
        "\n",
        "y_val = train_labels[:10000]\n",
        "partial_y_train = train_labels[10000:]"
      ],
      "execution_count": 0,
      "outputs": []
    },
    {
      "cell_type": "markdown",
      "metadata": {
        "id": "CE0W9vglJpiy",
        "colab_type": "text"
      },
      "source": [
        "## 训练模型\n",
        "\n",
        "以 512 个样本的 mini-batch 大小迭代 40 个 epoch 来训练模型。这是指对 `x_train` 和 `y_train` 张量中所有样本的的 40 次迭代。在训练过程中，监测来自验证集的 10,000 个样本上的损失值（loss）和准确率（accuracy）："
      ]
    },
    {
      "cell_type": "code",
      "metadata": {
        "id": "49nc4O7gJv-q",
        "colab_type": "code",
        "colab": {
          "base_uri": "https://localhost:8080/",
          "height": 1000
        },
        "outputId": "639cc318-1a32-449f-9ff2-4f506b03273d"
      },
      "source": [
        "history = model.fit(partial_x_train,\n",
        "                    partial_y_train,\n",
        "                    epochs=40,\n",
        "                    batch_size=512,\n",
        "                    validation_data=(x_val, y_val),\n",
        "                    verbose=1)"
      ],
      "execution_count": 14,
      "outputs": [
        {
          "output_type": "stream",
          "text": [
            "Epoch 1/40\n",
            "30/30 [==============================] - 1s 26ms/step - loss: 0.6919 - accuracy: 0.5756 - val_loss: 0.6900 - val_accuracy: 0.7126\n",
            "Epoch 2/40\n",
            "30/30 [==============================] - 1s 20ms/step - loss: 0.6861 - accuracy: 0.6555 - val_loss: 0.6820 - val_accuracy: 0.6985\n",
            "Epoch 3/40\n",
            "30/30 [==============================] - 1s 20ms/step - loss: 0.6737 - accuracy: 0.7433 - val_loss: 0.6670 - val_accuracy: 0.7216\n",
            "Epoch 4/40\n",
            "30/30 [==============================] - 1s 19ms/step - loss: 0.6525 - accuracy: 0.7591 - val_loss: 0.6423 - val_accuracy: 0.7607\n",
            "Epoch 5/40\n",
            "30/30 [==============================] - 1s 19ms/step - loss: 0.6197 - accuracy: 0.7864 - val_loss: 0.6074 - val_accuracy: 0.7842\n",
            "Epoch 6/40\n",
            "30/30 [==============================] - 1s 19ms/step - loss: 0.5777 - accuracy: 0.8067 - val_loss: 0.5661 - val_accuracy: 0.8002\n",
            "Epoch 7/40\n",
            "30/30 [==============================] - 1s 20ms/step - loss: 0.5308 - accuracy: 0.8270 - val_loss: 0.5231 - val_accuracy: 0.8176\n",
            "Epoch 8/40\n",
            "30/30 [==============================] - 1s 20ms/step - loss: 0.4836 - accuracy: 0.8452 - val_loss: 0.4820 - val_accuracy: 0.8323\n",
            "Epoch 9/40\n",
            "30/30 [==============================] - 1s 19ms/step - loss: 0.4395 - accuracy: 0.8600 - val_loss: 0.4452 - val_accuracy: 0.8427\n",
            "Epoch 10/40\n",
            "30/30 [==============================] - 1s 20ms/step - loss: 0.4011 - accuracy: 0.8701 - val_loss: 0.4141 - val_accuracy: 0.8502\n",
            "Epoch 11/40\n",
            "30/30 [==============================] - 1s 20ms/step - loss: 0.3679 - accuracy: 0.8781 - val_loss: 0.3888 - val_accuracy: 0.8563\n",
            "Epoch 12/40\n",
            "30/30 [==============================] - 1s 20ms/step - loss: 0.3393 - accuracy: 0.8892 - val_loss: 0.3676 - val_accuracy: 0.8637\n",
            "Epoch 13/40\n",
            "30/30 [==============================] - 1s 20ms/step - loss: 0.3145 - accuracy: 0.8949 - val_loss: 0.3501 - val_accuracy: 0.8690\n",
            "Epoch 14/40\n",
            "30/30 [==============================] - 1s 20ms/step - loss: 0.2936 - accuracy: 0.8998 - val_loss: 0.3373 - val_accuracy: 0.8694\n",
            "Epoch 15/40\n",
            "30/30 [==============================] - 1s 20ms/step - loss: 0.2757 - accuracy: 0.9047 - val_loss: 0.3262 - val_accuracy: 0.8757\n",
            "Epoch 16/40\n",
            "30/30 [==============================] - 1s 20ms/step - loss: 0.2600 - accuracy: 0.9101 - val_loss: 0.3175 - val_accuracy: 0.8745\n",
            "Epoch 17/40\n",
            "30/30 [==============================] - 1s 20ms/step - loss: 0.2460 - accuracy: 0.9145 - val_loss: 0.3098 - val_accuracy: 0.8793\n",
            "Epoch 18/40\n",
            "30/30 [==============================] - 1s 20ms/step - loss: 0.2334 - accuracy: 0.9189 - val_loss: 0.3051 - val_accuracy: 0.8779\n",
            "Epoch 19/40\n",
            "30/30 [==============================] - 1s 20ms/step - loss: 0.2220 - accuracy: 0.9225 - val_loss: 0.2996 - val_accuracy: 0.8818\n",
            "Epoch 20/40\n",
            "30/30 [==============================] - 1s 20ms/step - loss: 0.2115 - accuracy: 0.9265 - val_loss: 0.2957 - val_accuracy: 0.8815\n",
            "Epoch 21/40\n",
            "30/30 [==============================] - 1s 19ms/step - loss: 0.2018 - accuracy: 0.9309 - val_loss: 0.2925 - val_accuracy: 0.8836\n",
            "Epoch 22/40\n",
            "30/30 [==============================] - 1s 19ms/step - loss: 0.1927 - accuracy: 0.9347 - val_loss: 0.2901 - val_accuracy: 0.8847\n",
            "Epoch 23/40\n",
            "30/30 [==============================] - 1s 19ms/step - loss: 0.1849 - accuracy: 0.9383 - val_loss: 0.2882 - val_accuracy: 0.8848\n",
            "Epoch 24/40\n",
            "30/30 [==============================] - 1s 19ms/step - loss: 0.1762 - accuracy: 0.9421 - val_loss: 0.2869 - val_accuracy: 0.8849\n",
            "Epoch 25/40\n",
            "30/30 [==============================] - 1s 19ms/step - loss: 0.1695 - accuracy: 0.9450 - val_loss: 0.2863 - val_accuracy: 0.8857\n",
            "Epoch 26/40\n",
            "30/30 [==============================] - 1s 19ms/step - loss: 0.1622 - accuracy: 0.9483 - val_loss: 0.2864 - val_accuracy: 0.8854\n",
            "Epoch 27/40\n",
            "30/30 [==============================] - 1s 19ms/step - loss: 0.1554 - accuracy: 0.9518 - val_loss: 0.2859 - val_accuracy: 0.8860\n",
            "Epoch 28/40\n",
            "30/30 [==============================] - 1s 19ms/step - loss: 0.1491 - accuracy: 0.9539 - val_loss: 0.2880 - val_accuracy: 0.8833\n",
            "Epoch 29/40\n",
            "30/30 [==============================] - 1s 20ms/step - loss: 0.1433 - accuracy: 0.9570 - val_loss: 0.2870 - val_accuracy: 0.8866\n",
            "Epoch 30/40\n",
            "30/30 [==============================] - 1s 20ms/step - loss: 0.1377 - accuracy: 0.9591 - val_loss: 0.2882 - val_accuracy: 0.8866\n",
            "Epoch 31/40\n",
            "30/30 [==============================] - 1s 20ms/step - loss: 0.1323 - accuracy: 0.9602 - val_loss: 0.2905 - val_accuracy: 0.8861\n",
            "Epoch 32/40\n",
            "30/30 [==============================] - 1s 20ms/step - loss: 0.1270 - accuracy: 0.9632 - val_loss: 0.2917 - val_accuracy: 0.8862\n",
            "Epoch 33/40\n",
            "30/30 [==============================] - 1s 19ms/step - loss: 0.1218 - accuracy: 0.9651 - val_loss: 0.2937 - val_accuracy: 0.8871\n",
            "Epoch 34/40\n",
            "30/30 [==============================] - 1s 19ms/step - loss: 0.1175 - accuracy: 0.9669 - val_loss: 0.2953 - val_accuracy: 0.8852\n",
            "Epoch 35/40\n",
            "30/30 [==============================] - 1s 19ms/step - loss: 0.1128 - accuracy: 0.9682 - val_loss: 0.2974 - val_accuracy: 0.8856\n",
            "Epoch 36/40\n",
            "30/30 [==============================] - 1s 20ms/step - loss: 0.1087 - accuracy: 0.9701 - val_loss: 0.2999 - val_accuracy: 0.8840\n",
            "Epoch 37/40\n",
            "30/30 [==============================] - 1s 19ms/step - loss: 0.1044 - accuracy: 0.9713 - val_loss: 0.3039 - val_accuracy: 0.8853\n",
            "Epoch 38/40\n",
            "30/30 [==============================] - 1s 19ms/step - loss: 0.1009 - accuracy: 0.9725 - val_loss: 0.3055 - val_accuracy: 0.8840\n",
            "Epoch 39/40\n",
            "30/30 [==============================] - 1s 19ms/step - loss: 0.0968 - accuracy: 0.9745 - val_loss: 0.3089 - val_accuracy: 0.8817\n",
            "Epoch 40/40\n",
            "30/30 [==============================] - 1s 21ms/step - loss: 0.0927 - accuracy: 0.9761 - val_loss: 0.3116 - val_accuracy: 0.8830\n"
          ],
          "name": "stdout"
        }
      ]
    },
    {
      "cell_type": "markdown",
      "metadata": {
        "id": "hDuNYadWJxaq",
        "colab_type": "text"
      },
      "source": [
        "## 评估模型\n",
        "\n",
        "我们来看一下模型的性能如何。将返回两个值。损失值（loss）（一个表示误差的数字，值越低越好）与准确率（accuracy）。"
      ]
    },
    {
      "cell_type": "code",
      "metadata": {
        "id": "Cy2faPNxJ3-K",
        "colab_type": "code",
        "colab": {
          "base_uri": "https://localhost:8080/",
          "height": 53
        },
        "outputId": "c07f582b-c8e4-4792-f1c6-e3f21093a2c0"
      },
      "source": [
        "results = model.evaluate(test_data,  test_labels, verbose=2)\n",
        "\n",
        "print(results)"
      ],
      "execution_count": 15,
      "outputs": [
        {
          "output_type": "stream",
          "text": [
            "782/782 - 1s - loss: 0.3317 - accuracy: 0.8715\n",
            "[0.3317306935787201, 0.8714799880981445]\n"
          ],
          "name": "stdout"
        }
      ]
    },
    {
      "cell_type": "markdown",
      "metadata": {
        "id": "AqdFMXPgJ6Ri",
        "colab_type": "text"
      },
      "source": [
        "## 创建一个准确率（accuracy）和损失值（loss）随时间变化的图表\n",
        "\n",
        "`model.fit()` 返回一个 `History` 对象，该对象包含一个字典，其中包含训练阶段所发生的一切事件："
      ]
    },
    {
      "cell_type": "code",
      "metadata": {
        "id": "dfumW6J1J-RW",
        "colab_type": "code",
        "colab": {
          "base_uri": "https://localhost:8080/",
          "height": 35
        },
        "outputId": "03ce4d0a-66a1-485e-889d-6708d8bb3be3"
      },
      "source": [
        "history_dict = history.history\n",
        "history_dict.keys()"
      ],
      "execution_count": 16,
      "outputs": [
        {
          "output_type": "execute_result",
          "data": {
            "text/plain": [
              "dict_keys(['loss', 'accuracy', 'val_loss', 'val_accuracy'])"
            ]
          },
          "metadata": {
            "tags": []
          },
          "execution_count": 16
        }
      ]
    },
    {
      "cell_type": "markdown",
      "metadata": {
        "id": "Jslk8IhAKD_T",
        "colab_type": "text"
      },
      "source": [
        "有四个条目：在训练和验证期间，每个条目对应一个监控指标。我们可以使用这些条目来绘制训练与验证过程的损失值（loss）和准确率（accuracy），以便进行比较。"
      ]
    },
    {
      "cell_type": "code",
      "metadata": {
        "id": "0e5XohbuKLdR",
        "colab_type": "code",
        "colab": {
          "base_uri": "https://localhost:8080/",
          "height": 295
        },
        "outputId": "e11a865a-d9d5-4a4b-e5a3-8136da4df0a1"
      },
      "source": [
        "import matplotlib.pyplot as plt\n",
        "\n",
        "acc = history_dict['accuracy']\n",
        "val_acc = history_dict['val_accuracy']\n",
        "loss = history_dict['loss']\n",
        "val_loss = history_dict['val_loss']\n",
        "\n",
        "epochs = range(1, len(acc) + 1)\n",
        "\n",
        "# “bo”代表 \"蓝点\"\n",
        "plt.plot(epochs, loss, 'bo', label='Training loss')\n",
        "# b代表“蓝色实线”\n",
        "plt.plot(epochs, val_loss, 'b', label='Validation loss')\n",
        "plt.title('Training and validation loss')\n",
        "plt.xlabel('Epochs')\n",
        "plt.ylabel('Loss')\n",
        "plt.legend()\n",
        "\n",
        "plt.show()"
      ],
      "execution_count": 17,
      "outputs": [
        {
          "output_type": "display_data",
          "data": {
            "image/png": "[encoded data removed]",
            "text/plain": [
              "<Figure size 432x288 with 1 Axes>"
            ]
          },
          "metadata": {
            "tags": [],
            "needs_background": "light"
          }
        }
      ]
    },
    {
      "cell_type": "code",
      "metadata": {
        "id": "rODbWbmrKPMp",
        "colab_type": "code",
        "colab": {
          "base_uri": "https://localhost:8080/",
          "height": 295
        },
        "outputId": "d4bb6491-4a1d-448b-968b-6196dbaf9056"
      },
      "source": [
        "plt.clf()   # 清除数字\n",
        "\n",
        "plt.plot(epochs, acc, 'bo', label='Training acc')\n",
        "plt.plot(epochs, val_acc, 'b', label='Validation acc')\n",
        "plt.title('Training and validation accuracy')\n",
        "plt.xlabel('Epochs')\n",
        "plt.ylabel('Accuracy')\n",
        "plt.legend()\n",
        "\n",
        "plt.show()"
      ],
      "execution_count": 18,
      "outputs": [
        {
          "output_type": "display_data",
          "data": {
            "image/png": "[encoded data removed]",
            "text/plain": [
              "<Figure size 432x288 with 1 Axes>"
            ]
          },
          "metadata": {
            "tags": [],
            "needs_background": "light"
          }
        }
      ]
    }
  ]
}